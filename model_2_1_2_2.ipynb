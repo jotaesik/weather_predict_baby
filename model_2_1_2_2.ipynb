{
 "cells": [
  {
   "cell_type": "code",
   "execution_count": 1,
   "id": "91b9ef0c-6dae-4f3e-baf0-91f121fbebdb",
   "metadata": {},
   "outputs": [],
   "source": [
    "import csv\n",
    "import pandas as pd\n",
    "import requests\n",
    "from bs4 import BeautifulSoup as bs\n",
    "from datetime import datetime, timedelta\n",
    "from tqdm import tqdm\n",
    "import numpy as np\n",
    "\n",
    "import json\n",
    "from sklearn.preprocessing import OneHotEncoder\n",
    "from sklearn.preprocessing import LabelEncoder"
   ]
  },
  {
   "cell_type": "code",
   "execution_count": 2,
   "id": "c83e9027",
   "metadata": {},
   "outputs": [],
   "source": [
    "# 데이터프레임 읽기\n",
    "df = pd.read_csv('./data/weather_kor4.csv')"
   ]
  },
  {
   "cell_type": "code",
   "execution_count": 3,
   "id": "7a982b18",
   "metadata": {},
   "outputs": [
    {
     "data": {
      "text/plain": [
       "Unnamed: 0    0\n",
       "날짜            0\n",
       "기온            0\n",
       "강수량           0\n",
       "풍속_num        0\n",
       "풍향_num        0\n",
       "습도            0\n",
       "현지기압          0\n",
       "전운량           0\n",
       "aplYmd        0\n",
       "날씨코드          0\n",
       "wetrTxt       0\n",
       "wetrSplit     0\n",
       "현상번호_split    0\n",
       "weather_1     0\n",
       "weather_2     0\n",
       "풍속            0\n",
       "풍향            0\n",
       "일조량           0\n",
       "시간당 강수량       0\n",
       "timestamp     0\n",
       "W1            0\n",
       "W2            0\n",
       "dtype: int64"
      ]
     },
     "execution_count": 3,
     "metadata": {},
     "output_type": "execute_result"
    }
   ],
   "source": [
    "df.isna().sum()"
   ]
  },
  {
   "cell_type": "code",
   "execution_count": 4,
   "id": "6c90675d",
   "metadata": {},
   "outputs": [],
   "source": [
    "df.drop(columns={'W1','W2'},inplace=True)"
   ]
  },
  {
   "cell_type": "code",
   "execution_count": 5,
   "id": "634fe797",
   "metadata": {},
   "outputs": [],
   "source": [
    "df.drop(columns=[\"Unnamed: 0\"], axis=1, inplace=True)\n",
    "df[\"시간당 강수량\"] = df[\"시간당 강수량\"].fillna(\"없음\")\n",
    "# 데이터프레임 nan값 지우기\n",
    "df = df.dropna()"
   ]
  },
  {
   "cell_type": "code",
   "execution_count": 6,
   "id": "4f8fde77-614f-4f3b-9f76-28bbfbe15e7f",
   "metadata": {},
   "outputs": [],
   "source": [
    "# 인덱스제거\n",
    "df.reset_index(drop=True,inplace=True)\n",
    "# weather_1에 라벨인코딩\n",
    "encoder = LabelEncoder()\n",
    "encoder.fit(df[\"weather_1\"])\n",
    "encoded_data = encoder.transform(df[\"weather_1\"])\n",
    "# # weather_2에 라벨인코딩\n",
    "encoder1 = LabelEncoder()\n",
    "encoder1.fit(df[\"weather_2\"])\n",
    "encoded_data1 = encoder1.transform(df[\"weather_2\"])\n",
    "# data_Frame으로 변환\n",
    "encoded_data_df = pd.DataFrame(encoded_data,columns=['W1'])\n",
    "# data_Frame으로 변환\n",
    "encoded_data_df1 = pd.DataFrame(encoded_data1,columns=['W2'])"
   ]
  },
  {
   "cell_type": "code",
   "execution_count": 7,
   "id": "a57b997c-b330-4c77-9c31-6717dc7d9c56",
   "metadata": {},
   "outputs": [],
   "source": [
    "from datetime import datetime\n",
    "df['timestamp'] = pd.to_datetime(df['날짜'])\n",
    "# data_frame 통합\n",
    "df = pd.concat([df,encoded_data_df,encoded_data_df1],axis=1)"
   ]
  },
  {
   "cell_type": "code",
   "execution_count": 8,
   "id": "4484bf74-ebe3-4dc1-8a89-96378744c66b",
   "metadata": {},
   "outputs": [],
   "source": [
    "input_features = ['기온', '강수량', '풍속_num', '풍향_num','습도','현지기압','전운량','W1','W2']\n",
    "output_features = ['기온', '강수량', '풍속_num', '풍향_num','습도','현지기압','전운량','W1','W2']"
   ]
  },
  {
   "cell_type": "code",
   "execution_count": 9,
   "id": "f0453c5a",
   "metadata": {},
   "outputs": [
    {
     "data": {
      "text/html": [
       "<div>\n",
       "<style scoped>\n",
       "    .dataframe tbody tr th:only-of-type {\n",
       "        vertical-align: middle;\n",
       "    }\n",
       "\n",
       "    .dataframe tbody tr th {\n",
       "        vertical-align: top;\n",
       "    }\n",
       "\n",
       "    .dataframe thead th {\n",
       "        text-align: right;\n",
       "    }\n",
       "</style>\n",
       "<table border=\"1\" class=\"dataframe\">\n",
       "  <thead>\n",
       "    <tr style=\"text-align: right;\">\n",
       "      <th></th>\n",
       "      <th>날짜</th>\n",
       "      <th>기온</th>\n",
       "      <th>강수량</th>\n",
       "      <th>풍속_num</th>\n",
       "      <th>풍향_num</th>\n",
       "      <th>습도</th>\n",
       "      <th>현지기압</th>\n",
       "      <th>전운량</th>\n",
       "      <th>aplYmd</th>\n",
       "      <th>날씨코드</th>\n",
       "      <th>...</th>\n",
       "      <th>현상번호_split</th>\n",
       "      <th>weather_1</th>\n",
       "      <th>weather_2</th>\n",
       "      <th>풍속</th>\n",
       "      <th>풍향</th>\n",
       "      <th>일조량</th>\n",
       "      <th>시간당 강수량</th>\n",
       "      <th>timestamp</th>\n",
       "      <th>W1</th>\n",
       "      <th>W2</th>\n",
       "    </tr>\n",
       "  </thead>\n",
       "  <tbody>\n",
       "    <tr>\n",
       "      <th>0</th>\n",
       "      <td>2019-12-29 00:00</td>\n",
       "      <td>1.4</td>\n",
       "      <td>0.0</td>\n",
       "      <td>1.8</td>\n",
       "      <td>50.0</td>\n",
       "      <td>57</td>\n",
       "      <td>1018.2</td>\n",
       "      <td>3.0</td>\n",
       "      <td>20191229</td>\n",
       "      <td>9.0</td>\n",
       "      <td>...</td>\n",
       "      <td>['92', '01']</td>\n",
       "      <td>맑음</td>\n",
       "      <td>둘다아님</td>\n",
       "      <td>약한 강한 바람</td>\n",
       "      <td>NE</td>\n",
       "      <td>-1.0</td>\n",
       "      <td>없음</td>\n",
       "      <td>2019-12-29 00:00:00</td>\n",
       "      <td>1</td>\n",
       "      <td>1</td>\n",
       "    </tr>\n",
       "    <tr>\n",
       "      <th>1</th>\n",
       "      <td>2019-12-29 01:00</td>\n",
       "      <td>1.2</td>\n",
       "      <td>0.0</td>\n",
       "      <td>1.8</td>\n",
       "      <td>70.0</td>\n",
       "      <td>54</td>\n",
       "      <td>1017.9</td>\n",
       "      <td>6.0</td>\n",
       "      <td>20191229</td>\n",
       "      <td>9.0</td>\n",
       "      <td>...</td>\n",
       "      <td>['92', '01']</td>\n",
       "      <td>구름많음</td>\n",
       "      <td>둘다아님</td>\n",
       "      <td>약한 강한 바람</td>\n",
       "      <td>ENE</td>\n",
       "      <td>-1.0</td>\n",
       "      <td>없음</td>\n",
       "      <td>2019-12-29 01:00:00</td>\n",
       "      <td>0</td>\n",
       "      <td>1</td>\n",
       "    </tr>\n",
       "    <tr>\n",
       "      <th>2</th>\n",
       "      <td>2019-12-29 02:00</td>\n",
       "      <td>1.3</td>\n",
       "      <td>0.0</td>\n",
       "      <td>2.4</td>\n",
       "      <td>70.0</td>\n",
       "      <td>53</td>\n",
       "      <td>1017.9</td>\n",
       "      <td>4.0</td>\n",
       "      <td>20191229</td>\n",
       "      <td>9.0</td>\n",
       "      <td>...</td>\n",
       "      <td>['92', '01']</td>\n",
       "      <td>맑음</td>\n",
       "      <td>둘다아님</td>\n",
       "      <td>약한 강한 바람</td>\n",
       "      <td>ENE</td>\n",
       "      <td>-1.0</td>\n",
       "      <td>없음</td>\n",
       "      <td>2019-12-29 02:00:00</td>\n",
       "      <td>1</td>\n",
       "      <td>1</td>\n",
       "    </tr>\n",
       "    <tr>\n",
       "      <th>3</th>\n",
       "      <td>2019-12-29 03:00</td>\n",
       "      <td>1.4</td>\n",
       "      <td>0.0</td>\n",
       "      <td>1.8</td>\n",
       "      <td>70.0</td>\n",
       "      <td>52</td>\n",
       "      <td>1017.9</td>\n",
       "      <td>5.0</td>\n",
       "      <td>20191229</td>\n",
       "      <td>9.0</td>\n",
       "      <td>...</td>\n",
       "      <td>['92', '01']</td>\n",
       "      <td>맑음</td>\n",
       "      <td>둘다아님</td>\n",
       "      <td>약한 강한 바람</td>\n",
       "      <td>ENE</td>\n",
       "      <td>-1.0</td>\n",
       "      <td>없음</td>\n",
       "      <td>2019-12-29 03:00:00</td>\n",
       "      <td>1</td>\n",
       "      <td>1</td>\n",
       "    </tr>\n",
       "    <tr>\n",
       "      <th>4</th>\n",
       "      <td>2019-12-29 04:00</td>\n",
       "      <td>1.4</td>\n",
       "      <td>0.0</td>\n",
       "      <td>2.6</td>\n",
       "      <td>70.0</td>\n",
       "      <td>51</td>\n",
       "      <td>1017.1</td>\n",
       "      <td>5.0</td>\n",
       "      <td>20191229</td>\n",
       "      <td>9.0</td>\n",
       "      <td>...</td>\n",
       "      <td>['92', '01']</td>\n",
       "      <td>맑음</td>\n",
       "      <td>둘다아님</td>\n",
       "      <td>약한 강한 바람</td>\n",
       "      <td>ENE</td>\n",
       "      <td>-1.0</td>\n",
       "      <td>없음</td>\n",
       "      <td>2019-12-29 04:00:00</td>\n",
       "      <td>1</td>\n",
       "      <td>1</td>\n",
       "    </tr>\n",
       "    <tr>\n",
       "      <th>...</th>\n",
       "      <td>...</td>\n",
       "      <td>...</td>\n",
       "      <td>...</td>\n",
       "      <td>...</td>\n",
       "      <td>...</td>\n",
       "      <td>...</td>\n",
       "      <td>...</td>\n",
       "      <td>...</td>\n",
       "      <td>...</td>\n",
       "      <td>...</td>\n",
       "      <td>...</td>\n",
       "      <td>...</td>\n",
       "      <td>...</td>\n",
       "      <td>...</td>\n",
       "      <td>...</td>\n",
       "      <td>...</td>\n",
       "      <td>...</td>\n",
       "      <td>...</td>\n",
       "      <td>...</td>\n",
       "      <td>...</td>\n",
       "      <td>...</td>\n",
       "    </tr>\n",
       "    <tr>\n",
       "      <th>37690</th>\n",
       "      <td>2024-05-23 19:00</td>\n",
       "      <td>22.5</td>\n",
       "      <td>0.0</td>\n",
       "      <td>3.5</td>\n",
       "      <td>270.0</td>\n",
       "      <td>55</td>\n",
       "      <td>999.5</td>\n",
       "      <td>0.0</td>\n",
       "      <td>20240523</td>\n",
       "      <td>17.0</td>\n",
       "      <td>...</td>\n",
       "      <td>['90']</td>\n",
       "      <td>맑음</td>\n",
       "      <td>둘다아님</td>\n",
       "      <td>약한 강한 바람</td>\n",
       "      <td>W</td>\n",
       "      <td>1.0</td>\n",
       "      <td>없음</td>\n",
       "      <td>2024-05-23 19:00:00</td>\n",
       "      <td>1</td>\n",
       "      <td>1</td>\n",
       "    </tr>\n",
       "    <tr>\n",
       "      <th>37691</th>\n",
       "      <td>2024-05-23 20:00</td>\n",
       "      <td>20.5</td>\n",
       "      <td>0.0</td>\n",
       "      <td>3.0</td>\n",
       "      <td>290.0</td>\n",
       "      <td>68</td>\n",
       "      <td>1000.3</td>\n",
       "      <td>0.0</td>\n",
       "      <td>20240523</td>\n",
       "      <td>17.0</td>\n",
       "      <td>...</td>\n",
       "      <td>['90']</td>\n",
       "      <td>맑음</td>\n",
       "      <td>둘다아님</td>\n",
       "      <td>약한 강한 바람</td>\n",
       "      <td>WNW</td>\n",
       "      <td>0.0</td>\n",
       "      <td>없음</td>\n",
       "      <td>2024-05-23 20:00:00</td>\n",
       "      <td>1</td>\n",
       "      <td>1</td>\n",
       "    </tr>\n",
       "    <tr>\n",
       "      <th>37692</th>\n",
       "      <td>2024-05-23 21:00</td>\n",
       "      <td>18.6</td>\n",
       "      <td>0.0</td>\n",
       "      <td>2.8</td>\n",
       "      <td>270.0</td>\n",
       "      <td>73</td>\n",
       "      <td>1001.0</td>\n",
       "      <td>0.0</td>\n",
       "      <td>20240523</td>\n",
       "      <td>17.0</td>\n",
       "      <td>...</td>\n",
       "      <td>['90']</td>\n",
       "      <td>맑음</td>\n",
       "      <td>둘다아님</td>\n",
       "      <td>약한 강한 바람</td>\n",
       "      <td>W</td>\n",
       "      <td>-1.0</td>\n",
       "      <td>없음</td>\n",
       "      <td>2024-05-23 21:00:00</td>\n",
       "      <td>1</td>\n",
       "      <td>1</td>\n",
       "    </tr>\n",
       "    <tr>\n",
       "      <th>37693</th>\n",
       "      <td>2024-05-23 22:00</td>\n",
       "      <td>17.7</td>\n",
       "      <td>0.0</td>\n",
       "      <td>2.9</td>\n",
       "      <td>290.0</td>\n",
       "      <td>79</td>\n",
       "      <td>1001.6</td>\n",
       "      <td>0.0</td>\n",
       "      <td>20240523</td>\n",
       "      <td>17.0</td>\n",
       "      <td>...</td>\n",
       "      <td>['90']</td>\n",
       "      <td>맑음</td>\n",
       "      <td>둘다아님</td>\n",
       "      <td>약한 강한 바람</td>\n",
       "      <td>WNW</td>\n",
       "      <td>-1.0</td>\n",
       "      <td>없음</td>\n",
       "      <td>2024-05-23 22:00:00</td>\n",
       "      <td>1</td>\n",
       "      <td>1</td>\n",
       "    </tr>\n",
       "    <tr>\n",
       "      <th>37694</th>\n",
       "      <td>2024-05-23 23:00</td>\n",
       "      <td>16.8</td>\n",
       "      <td>0.0</td>\n",
       "      <td>3.1</td>\n",
       "      <td>250.0</td>\n",
       "      <td>83</td>\n",
       "      <td>1001.6</td>\n",
       "      <td>0.0</td>\n",
       "      <td>20240523</td>\n",
       "      <td>17.0</td>\n",
       "      <td>...</td>\n",
       "      <td>['90']</td>\n",
       "      <td>맑음</td>\n",
       "      <td>둘다아님</td>\n",
       "      <td>약한 강한 바람</td>\n",
       "      <td>WSW</td>\n",
       "      <td>-1.0</td>\n",
       "      <td>없음</td>\n",
       "      <td>2024-05-23 23:00:00</td>\n",
       "      <td>1</td>\n",
       "      <td>1</td>\n",
       "    </tr>\n",
       "  </tbody>\n",
       "</table>\n",
       "<p>37695 rows × 22 columns</p>\n",
       "</div>"
      ],
      "text/plain": [
       "                     날짜    기온  강수량  풍속_num  풍향_num  습도    현지기압  전운량    aplYmd  \\\n",
       "0      2019-12-29 00:00   1.4  0.0     1.8    50.0  57  1018.2  3.0  20191229   \n",
       "1      2019-12-29 01:00   1.2  0.0     1.8    70.0  54  1017.9  6.0  20191229   \n",
       "2      2019-12-29 02:00   1.3  0.0     2.4    70.0  53  1017.9  4.0  20191229   \n",
       "3      2019-12-29 03:00   1.4  0.0     1.8    70.0  52  1017.9  5.0  20191229   \n",
       "4      2019-12-29 04:00   1.4  0.0     2.6    70.0  51  1017.1  5.0  20191229   \n",
       "...                 ...   ...  ...     ...     ...  ..     ...  ...       ...   \n",
       "37690  2024-05-23 19:00  22.5  0.0     3.5   270.0  55   999.5  0.0  20240523   \n",
       "37691  2024-05-23 20:00  20.5  0.0     3.0   290.0  68  1000.3  0.0  20240523   \n",
       "37692  2024-05-23 21:00  18.6  0.0     2.8   270.0  73  1001.0  0.0  20240523   \n",
       "37693  2024-05-23 22:00  17.7  0.0     2.9   290.0  79  1001.6  0.0  20240523   \n",
       "37694  2024-05-23 23:00  16.8  0.0     3.1   250.0  83  1001.6  0.0  20240523   \n",
       "\n",
       "       날씨코드  ...    현상번호_split weather_1 weather_2        풍속   풍향  일조량  \\\n",
       "0       9.0  ...  ['92', '01']        맑음      둘다아님  약한 강한 바람   NE -1.0   \n",
       "1       9.0  ...  ['92', '01']      구름많음      둘다아님  약한 강한 바람  ENE -1.0   \n",
       "2       9.0  ...  ['92', '01']        맑음      둘다아님  약한 강한 바람  ENE -1.0   \n",
       "3       9.0  ...  ['92', '01']        맑음      둘다아님  약한 강한 바람  ENE -1.0   \n",
       "4       9.0  ...  ['92', '01']        맑음      둘다아님  약한 강한 바람  ENE -1.0   \n",
       "...     ...  ...           ...       ...       ...       ...  ...  ...   \n",
       "37690  17.0  ...        ['90']        맑음      둘다아님  약한 강한 바람    W  1.0   \n",
       "37691  17.0  ...        ['90']        맑음      둘다아님  약한 강한 바람  WNW  0.0   \n",
       "37692  17.0  ...        ['90']        맑음      둘다아님  약한 강한 바람    W -1.0   \n",
       "37693  17.0  ...        ['90']        맑음      둘다아님  약한 강한 바람  WNW -1.0   \n",
       "37694  17.0  ...        ['90']        맑음      둘다아님  약한 강한 바람  WSW -1.0   \n",
       "\n",
       "      시간당 강수량           timestamp W1 W2  \n",
       "0          없음 2019-12-29 00:00:00  1  1  \n",
       "1          없음 2019-12-29 01:00:00  0  1  \n",
       "2          없음 2019-12-29 02:00:00  1  1  \n",
       "3          없음 2019-12-29 03:00:00  1  1  \n",
       "4          없음 2019-12-29 04:00:00  1  1  \n",
       "...       ...                 ... .. ..  \n",
       "37690      없음 2024-05-23 19:00:00  1  1  \n",
       "37691      없음 2024-05-23 20:00:00  1  1  \n",
       "37692      없음 2024-05-23 21:00:00  1  1  \n",
       "37693      없음 2024-05-23 22:00:00  1  1  \n",
       "37694      없음 2024-05-23 23:00:00  1  1  \n",
       "\n",
       "[37695 rows x 22 columns]"
      ]
     },
     "execution_count": 9,
     "metadata": {},
     "output_type": "execute_result"
    }
   ],
   "source": [
    "df"
   ]
  },
  {
   "cell_type": "code",
   "execution_count": 10,
   "id": "b1a84c6b",
   "metadata": {},
   "outputs": [
    {
     "data": {
      "text/plain": [
       "Index(['날짜', '기온', '강수량', '풍속_num', '풍향_num', '습도', '현지기압', '전운량', 'aplYmd',\n",
       "       '날씨코드', 'wetrTxt', 'wetrSplit', '현상번호_split', 'weather_1', 'weather_2',\n",
       "       '풍속', '풍향', '일조량', '시간당 강수량', 'timestamp', 'W1', 'W2'],\n",
       "      dtype='object')"
      ]
     },
     "execution_count": 10,
     "metadata": {},
     "output_type": "execute_result"
    }
   ],
   "source": [
    "df.columns"
   ]
  },
  {
   "cell_type": "code",
   "execution_count": 11,
   "id": "cfc7feba-fc20-4738-8d52-f6a4b94a04cd",
   "metadata": {},
   "outputs": [
    {
     "name": "stderr",
     "output_type": "stream",
     "text": [
      "100%|█████████████████████████████████████████████████████████████████████████████| 36975/36975 [07:37<00:00, 80.74it/s]\n"
     ]
    }
   ],
   "source": [
    "# 데이터 전처리 변수마다 범위가 다르므로 다르게 적용\n",
    "from sklearn.preprocessing import MinMaxScaler\n",
    "scalers = {}\n",
    "for feature in input_features:\n",
    "    scaler = MinMaxScaler()\n",
    "    df[feature] = scaler.fit_transform(df[[feature]])\n",
    "    # print(scaled_data)\n",
    "    scalers[feature] = scaler\n",
    "# 시퀀스 데이터 생성\n",
    "sequence_length = 720  # 예측에 사용할 시퀀스 길이\n",
    "X1 = []\n",
    "Y1 = []\n",
    "for i in tqdm(range(len(df) - sequence_length)):\n",
    "    # 각 변수에 해당하는 데이터를 스케일링하여 저장\n",
    "    scaled_features = []\n",
    "    for feature in input_features:\n",
    "        scaled_feature = scalers[feature].transform(df[[feature]].iloc[i:i+sequence_length])\n",
    "        scaled_features.append(scaled_feature)\n",
    "    # 각 변수를 열로 가지는 2차원 배열로 변환하여 X에 추가\n",
    "    X1.append(np.concatenate(scaled_features, axis=1))\n",
    "    # 출력 변수는 스케일링할 필요가 없으므로 그대로 추가\n",
    "    Y1.append(df[output_features].iloc[i+sequence_length])\n",
    "X2 = np.array(X1)\n",
    "Y2 = np.array(Y1)\n"
   ]
  },
  {
   "cell_type": "code",
   "execution_count": 12,
   "id": "8fa3edab-568c-44ad-b070-7abe5e249189",
   "metadata": {},
   "outputs": [],
   "source": [
    "train_length = int(len(X2)*0.8)\n",
    "x_train = X2[0:train_length]\n",
    "y_train = Y2[0:train_length]"
   ]
  },
  {
   "cell_type": "code",
   "execution_count": 13,
   "id": "3adf774b",
   "metadata": {},
   "outputs": [
    {
     "data": {
      "text/plain": [
       "(29580, 9)"
      ]
     },
     "execution_count": 13,
     "metadata": {},
     "output_type": "execute_result"
    }
   ],
   "source": [
    "y_train.shape"
   ]
  },
  {
   "cell_type": "code",
   "execution_count": 14,
   "id": "92d588f6-4d30-49d4-9acc-40833701de26",
   "metadata": {},
   "outputs": [
    {
     "data": {
      "text/plain": [
       "(29580, 720, 9)"
      ]
     },
     "execution_count": 14,
     "metadata": {},
     "output_type": "execute_result"
    }
   ],
   "source": [
    "x_train.shape"
   ]
  },
  {
   "cell_type": "code",
   "execution_count": 15,
   "id": "27ad7d60-feb6-416b-82b7-67da1654ef20",
   "metadata": {},
   "outputs": [],
   "source": [
    "x_test = X2[train_length:]\n",
    "y_test = Y2[train_length:]"
   ]
  },
  {
   "cell_type": "code",
   "execution_count": 16,
   "id": "56b64ab8-f447-4865-ac73-2ad2fbe3ccab",
   "metadata": {},
   "outputs": [
    {
     "data": {
      "text/plain": [
       "(7395, 720, 9)"
      ]
     },
     "execution_count": 16,
     "metadata": {},
     "output_type": "execute_result"
    }
   ],
   "source": [
    "x_test.shape"
   ]
  },
  {
   "cell_type": "code",
   "execution_count": 17,
   "id": "06189650-826c-4804-a676-58a61e52d477",
   "metadata": {},
   "outputs": [
    {
     "data": {
      "text/plain": [
       "23664"
      ]
     },
     "execution_count": 17,
     "metadata": {},
     "output_type": "execute_result"
    }
   ],
   "source": [
    "valid_length = int(len(x_train)*0.8)\n",
    "valid_length"
   ]
  },
  {
   "cell_type": "code",
   "execution_count": 18,
   "id": "c9f1c160-d9f7-4014-842f-5e8c9828a6db",
   "metadata": {},
   "outputs": [],
   "source": [
    "new_x_train = x_train[0:valid_length]\n",
    "new_y_train = y_train[0:valid_length]"
   ]
  },
  {
   "cell_type": "code",
   "execution_count": 19,
   "id": "ffc4bb5d-84f2-47b8-8064-c42342c518e3",
   "metadata": {},
   "outputs": [],
   "source": [
    "x_val = x_train[valid_length:]\n",
    "y_val = y_train[valid_length:]"
   ]
  },
  {
   "cell_type": "code",
   "execution_count": 20,
   "id": "c2410361",
   "metadata": {},
   "outputs": [
    {
     "data": {
      "text/plain": [
       "(29580, 720, 9)"
      ]
     },
     "execution_count": 20,
     "metadata": {},
     "output_type": "execute_result"
    }
   ],
   "source": [
    "x_train.shape"
   ]
  },
  {
   "cell_type": "code",
   "execution_count": 21,
   "id": "6259223f",
   "metadata": {},
   "outputs": [
    {
     "data": {
      "text/plain": [
       "(5916, 720, 9)"
      ]
     },
     "execution_count": 21,
     "metadata": {},
     "output_type": "execute_result"
    }
   ],
   "source": [
    "x_val.shape"
   ]
  },
  {
   "cell_type": "code",
   "execution_count": 22,
   "id": "78c4758b",
   "metadata": {},
   "outputs": [
    {
     "data": {
      "text/plain": [
       "(7395, 720, 9)"
      ]
     },
     "execution_count": 22,
     "metadata": {},
     "output_type": "execute_result"
    }
   ],
   "source": [
    "x_test.shape"
   ]
  },
  {
   "cell_type": "code",
   "execution_count": 23,
   "id": "658acba0-fcaa-49d1-ac71-7ff21c234ff7",
   "metadata": {},
   "outputs": [
    {
     "name": "stderr",
     "output_type": "stream",
     "text": [
      "2024-05-27 17:55:31.161044: I tensorflow/tsl/cuda/cudart_stub.cc:28] Could not find cuda drivers on your machine, GPU will not be used.\n",
      "2024-05-27 17:55:31.223866: I tensorflow/tsl/cuda/cudart_stub.cc:28] Could not find cuda drivers on your machine, GPU will not be used.\n",
      "2024-05-27 17:55:31.224953: I tensorflow/core/platform/cpu_feature_guard.cc:182] This TensorFlow binary is optimized to use available CPU instructions in performance-critical operations.\n",
      "To enable the following instructions: AVX2 FMA, in other operations, rebuild TensorFlow with the appropriate compiler flags.\n",
      "2024-05-27 17:55:32.398985: W tensorflow/compiler/tf2tensorrt/utils/py_utils.cc:38] TF-TRT Warning: Could not find TensorRT\n"
     ]
    }
   ],
   "source": [
    "import tensorflow as tf"
   ]
  },
  {
   "cell_type": "code",
   "execution_count": 24,
   "id": "e499779f-6255-4e98-bf29-dd4b820656a7",
   "metadata": {},
   "outputs": [],
   "source": [
    "# LSTM 모델 구성\n",
    "# 50은 뉴런의 수 조절해야하는 파라미터 과적합 조심!\n",
    "model = tf.keras.models.Sequential([\n",
    "    tf.keras.layers.LSTM(100, return_sequences=True, input_shape=(x_train.shape[1], x_train.shape[2])),\n",
    "    tf.keras.layers.Dropout(0.2),\n",
    "    tf.keras.layers.LSTM(50),\n",
    "    tf.keras.layers.Dropout(0.2),\n",
    "    tf.keras.layers.Dense(len(output_features))\n",
    "])"
   ]
  },
  {
   "cell_type": "code",
   "execution_count": 25,
   "id": "8d5a9f15-894c-4aa9-a5bd-084a0267b46e",
   "metadata": {},
   "outputs": [],
   "source": [
    "# 모델 컴파일\n",
    "model.compile(loss='mse', optimizer='adam')"
   ]
  },
  {
   "cell_type": "code",
   "execution_count": 26,
   "id": "28b16f82-d5df-44e8-bfe2-1d5f0c42db1a",
   "metadata": {},
   "outputs": [],
   "source": [
    "# 모델 조기종료\n",
    "early_stopping_callback = tf.keras.callbacks.EarlyStopping(\n",
    "    monitor='val_loss',  \n",
    "    patience=20,        \n",
    "    restore_best_weights=True  \n",
    ")"
   ]
  },
  {
   "cell_type": "code",
   "execution_count": 27,
   "id": "536b35ab",
   "metadata": {},
   "outputs": [
    {
     "data": {
      "text/plain": [
       "(29580, 720, 9)"
      ]
     },
     "execution_count": 27,
     "metadata": {},
     "output_type": "execute_result"
    }
   ],
   "source": [
    "x_train.shape"
   ]
  },
  {
   "cell_type": "code",
   "execution_count": 28,
   "id": "1b414018-e4dd-4ca2-998a-3b5f90ed6ae1",
   "metadata": {
    "scrolled": true
   },
   "outputs": [
    {
     "name": "stdout",
     "output_type": "stream",
     "text": [
      "Epoch 1/100\n"
     ]
    },
    {
     "name": "stderr",
     "output_type": "stream",
     "text": [
      "2024-05-27 17:55:36.107439: W tensorflow/tsl/framework/cpu_allocator_impl.cc:83] Allocation of 766713600 exceeds 10% of free system memory.\n"
     ]
    },
    {
     "name": "stdout",
     "output_type": "stream",
     "text": [
      "925/925 [==============================] - 330s 354ms/step - loss: 0.0574 - val_loss: 0.0406\n",
      "Epoch 2/100\n",
      "925/925 [==============================] - 324s 350ms/step - loss: 0.0378 - val_loss: 0.0325\n",
      "Epoch 3/100\n",
      "925/925 [==============================] - 321s 347ms/step - loss: 0.0345 - val_loss: 0.0330\n",
      "Epoch 4/100\n",
      "925/925 [==============================] - 326s 352ms/step - loss: 0.0330 - val_loss: 0.0312\n",
      "Epoch 5/100\n",
      "925/925 [==============================] - 328s 355ms/step - loss: 0.0312 - val_loss: 0.0290\n",
      "Epoch 6/100\n",
      "925/925 [==============================] - 325s 351ms/step - loss: 0.0296 - val_loss: 0.0274\n",
      "Epoch 7/100\n",
      "925/925 [==============================] - 323s 349ms/step - loss: 0.0280 - val_loss: 0.0270\n",
      "Epoch 8/100\n",
      "925/925 [==============================] - 321s 347ms/step - loss: 0.0273 - val_loss: 0.0260\n",
      "Epoch 9/100\n",
      "925/925 [==============================] - 327s 353ms/step - loss: 0.0268 - val_loss: 0.0251\n",
      "Epoch 10/100\n",
      "925/925 [==============================] - 322s 348ms/step - loss: 0.0265 - val_loss: 0.0260\n",
      "Epoch 11/100\n",
      "925/925 [==============================] - 327s 353ms/step - loss: 0.0262 - val_loss: 0.0252\n",
      "Epoch 12/100\n",
      "925/925 [==============================] - 325s 351ms/step - loss: 0.0259 - val_loss: 0.0247\n",
      "Epoch 13/100\n",
      "925/925 [==============================] - 329s 355ms/step - loss: 0.0257 - val_loss: 0.0239\n",
      "Epoch 14/100\n",
      "925/925 [==============================] - 329s 356ms/step - loss: 0.0253 - val_loss: 0.0236\n",
      "Epoch 15/100\n",
      "925/925 [==============================] - 324s 351ms/step - loss: 0.0251 - val_loss: 0.0239\n",
      "Epoch 16/100\n",
      "925/925 [==============================] - 329s 356ms/step - loss: 0.0249 - val_loss: 0.0233\n",
      "Epoch 17/100\n",
      "925/925 [==============================] - 328s 354ms/step - loss: 0.0247 - val_loss: 0.0233\n",
      "Epoch 18/100\n",
      "925/925 [==============================] - 330s 357ms/step - loss: 0.0244 - val_loss: 0.0231\n",
      "Epoch 19/100\n",
      "925/925 [==============================] - 325s 352ms/step - loss: 0.0241 - val_loss: 0.0227\n",
      "Epoch 20/100\n",
      "925/925 [==============================] - 333s 360ms/step - loss: 0.0239 - val_loss: 0.0224\n",
      "Epoch 21/100\n",
      "925/925 [==============================] - 331s 358ms/step - loss: 0.0238 - val_loss: 0.0223\n",
      "Epoch 22/100\n",
      "925/925 [==============================] - 330s 357ms/step - loss: 0.0237 - val_loss: 0.0229\n",
      "Epoch 23/100\n",
      "925/925 [==============================] - 330s 356ms/step - loss: 0.0235 - val_loss: 0.0219\n",
      "Epoch 24/100\n",
      "925/925 [==============================] - 322s 348ms/step - loss: 0.0235 - val_loss: 0.0227\n",
      "Epoch 25/100\n",
      "925/925 [==============================] - 328s 355ms/step - loss: 0.0232 - val_loss: 0.0226\n",
      "Epoch 26/100\n",
      "925/925 [==============================] - 327s 353ms/step - loss: 0.0231 - val_loss: 0.0216\n",
      "Epoch 27/100\n",
      "925/925 [==============================] - 330s 357ms/step - loss: 0.0228 - val_loss: 0.0219\n",
      "Epoch 28/100\n",
      "925/925 [==============================] - 327s 354ms/step - loss: 0.0227 - val_loss: 0.0215\n",
      "Epoch 29/100\n",
      "925/925 [==============================] - 329s 356ms/step - loss: 0.0227 - val_loss: 0.0217\n",
      "Epoch 30/100\n",
      "925/925 [==============================] - 329s 356ms/step - loss: 0.0228 - val_loss: 0.0210\n",
      "Epoch 31/100\n",
      "925/925 [==============================] - 325s 352ms/step - loss: 0.0224 - val_loss: 0.0211\n",
      "Epoch 32/100\n",
      "925/925 [==============================] - 325s 351ms/step - loss: 0.0222 - val_loss: 0.0210\n",
      "Epoch 33/100\n",
      "925/925 [==============================] - 324s 350ms/step - loss: 0.0221 - val_loss: 0.0210\n",
      "Epoch 34/100\n",
      "925/925 [==============================] - 326s 352ms/step - loss: 0.0220 - val_loss: 0.0208\n",
      "Epoch 35/100\n",
      "925/925 [==============================] - 325s 352ms/step - loss: 0.0219 - val_loss: 0.0204\n",
      "Epoch 36/100\n",
      "925/925 [==============================] - 326s 353ms/step - loss: 0.0218 - val_loss: 0.0212\n",
      "Epoch 37/100\n",
      "925/925 [==============================] - 330s 356ms/step - loss: 0.0217 - val_loss: 0.0204\n",
      "Epoch 38/100\n",
      "925/925 [==============================] - 329s 356ms/step - loss: 0.0216 - val_loss: 0.0200\n",
      "Epoch 39/100\n",
      "925/925 [==============================] - 331s 358ms/step - loss: 0.0219 - val_loss: 0.0201\n",
      "Epoch 40/100\n",
      "925/925 [==============================] - 327s 354ms/step - loss: 0.0215 - val_loss: 0.0201\n",
      "Epoch 41/100\n",
      "925/925 [==============================] - 327s 354ms/step - loss: 0.0214 - val_loss: 0.0198\n",
      "Epoch 42/100\n",
      "925/925 [==============================] - 328s 355ms/step - loss: 0.0213 - val_loss: 0.0198\n",
      "Epoch 43/100\n",
      "925/925 [==============================] - 327s 354ms/step - loss: 0.0212 - val_loss: 0.0198\n",
      "Epoch 44/100\n",
      "925/925 [==============================] - 327s 353ms/step - loss: 0.0212 - val_loss: 0.0195\n",
      "Epoch 45/100\n",
      "925/925 [==============================] - 325s 352ms/step - loss: 0.0210 - val_loss: 0.0200\n",
      "Epoch 46/100\n",
      "925/925 [==============================] - 326s 353ms/step - loss: 0.0210 - val_loss: 0.0195\n",
      "Epoch 47/100\n",
      "925/925 [==============================] - 330s 357ms/step - loss: 0.0209 - val_loss: 0.0193\n",
      "Epoch 48/100\n",
      "925/925 [==============================] - 329s 356ms/step - loss: 0.0208 - val_loss: 0.0194\n",
      "Epoch 49/100\n",
      "925/925 [==============================] - 326s 352ms/step - loss: 0.0207 - val_loss: 0.0193\n",
      "Epoch 50/100\n",
      "925/925 [==============================] - 327s 354ms/step - loss: 0.0206 - val_loss: 0.0191\n",
      "Epoch 51/100\n",
      "925/925 [==============================] - 324s 351ms/step - loss: 0.0206 - val_loss: 0.0189\n",
      "Epoch 52/100\n",
      "925/925 [==============================] - 326s 352ms/step - loss: 0.0206 - val_loss: 0.0191\n",
      "Epoch 53/100\n",
      "925/925 [==============================] - 329s 356ms/step - loss: 0.0205 - val_loss: 0.0189\n",
      "Epoch 54/100\n",
      "925/925 [==============================] - 327s 354ms/step - loss: 0.0205 - val_loss: 0.0189\n",
      "Epoch 55/100\n",
      "925/925 [==============================] - 331s 357ms/step - loss: 0.0204 - val_loss: 0.0189\n",
      "Epoch 56/100\n",
      "925/925 [==============================] - 328s 355ms/step - loss: 0.0203 - val_loss: 0.0189\n",
      "Epoch 57/100\n",
      "925/925 [==============================] - 325s 352ms/step - loss: 0.0203 - val_loss: 0.0189\n",
      "Epoch 58/100\n",
      "925/925 [==============================] - 326s 352ms/step - loss: 0.0202 - val_loss: 0.0184\n",
      "Epoch 59/100\n",
      "925/925 [==============================] - 326s 353ms/step - loss: 0.0200 - val_loss: 0.0186\n",
      "Epoch 60/100\n",
      "925/925 [==============================] - 330s 357ms/step - loss: 0.0201 - val_loss: 0.0185\n",
      "Epoch 61/100\n",
      "925/925 [==============================] - 330s 357ms/step - loss: 0.0199 - val_loss: 0.0186\n",
      "Epoch 62/100\n",
      "925/925 [==============================] - 325s 352ms/step - loss: 0.0199 - val_loss: 0.0183\n",
      "Epoch 63/100\n",
      "925/925 [==============================] - 328s 354ms/step - loss: 0.0198 - val_loss: 0.0183\n",
      "Epoch 64/100\n",
      "925/925 [==============================] - 325s 352ms/step - loss: 0.0198 - val_loss: 0.0178\n",
      "Epoch 65/100\n",
      "925/925 [==============================] - 325s 351ms/step - loss: 0.0197 - val_loss: 0.0180\n",
      "Epoch 66/100\n",
      "925/925 [==============================] - 325s 351ms/step - loss: 0.0197 - val_loss: 0.0179\n",
      "Epoch 67/100\n",
      "925/925 [==============================] - 322s 348ms/step - loss: 0.0196 - val_loss: 0.0178\n",
      "Epoch 68/100\n",
      "925/925 [==============================] - 322s 348ms/step - loss: 0.0196 - val_loss: 0.0179\n",
      "Epoch 69/100\n",
      "925/925 [==============================] - 325s 351ms/step - loss: 0.0195 - val_loss: 0.0177\n",
      "Epoch 70/100\n",
      "925/925 [==============================] - 326s 352ms/step - loss: 0.0195 - val_loss: 0.0180\n",
      "Epoch 71/100\n",
      "925/925 [==============================] - 325s 352ms/step - loss: 0.0194 - val_loss: 0.0175\n",
      "Epoch 72/100\n",
      "925/925 [==============================] - 324s 350ms/step - loss: 0.0193 - val_loss: 0.0174\n",
      "Epoch 73/100\n",
      "925/925 [==============================] - 324s 350ms/step - loss: 0.0192 - val_loss: 0.0173\n",
      "Epoch 74/100\n",
      "925/925 [==============================] - 329s 355ms/step - loss: 0.0192 - val_loss: 0.0176\n",
      "Epoch 75/100\n",
      "925/925 [==============================] - 326s 352ms/step - loss: 0.0191 - val_loss: 0.0179\n",
      "Epoch 76/100\n",
      "925/925 [==============================] - 327s 354ms/step - loss: 0.0191 - val_loss: 0.0173\n",
      "Epoch 77/100\n",
      "925/925 [==============================] - 325s 352ms/step - loss: 0.0192 - val_loss: 0.0171\n",
      "Epoch 78/100\n",
      "925/925 [==============================] - 327s 353ms/step - loss: 0.0189 - val_loss: 0.0171\n",
      "Epoch 79/100\n",
      "925/925 [==============================] - 330s 357ms/step - loss: 0.0188 - val_loss: 0.0170\n",
      "Epoch 80/100\n",
      "925/925 [==============================] - 327s 353ms/step - loss: 0.0189 - val_loss: 0.0166\n",
      "Epoch 81/100\n",
      "925/925 [==============================] - 326s 353ms/step - loss: 0.0188 - val_loss: 0.0175\n",
      "Epoch 82/100\n",
      "925/925 [==============================] - 329s 355ms/step - loss: 0.0187 - val_loss: 0.0168\n",
      "Epoch 83/100\n",
      "925/925 [==============================] - 328s 355ms/step - loss: 0.0193 - val_loss: 0.0165\n",
      "Epoch 84/100\n",
      "925/925 [==============================] - 329s 355ms/step - loss: 0.0186 - val_loss: 0.0167\n",
      "Epoch 85/100\n",
      "925/925 [==============================] - 328s 354ms/step - loss: 0.0185 - val_loss: 0.0165\n",
      "Epoch 86/100\n",
      "925/925 [==============================] - 331s 358ms/step - loss: 0.0186 - val_loss: 0.0162\n",
      "Epoch 87/100\n",
      "925/925 [==============================] - 328s 355ms/step - loss: 0.0184 - val_loss: 0.0164\n",
      "Epoch 88/100\n",
      "925/925 [==============================] - 325s 351ms/step - loss: 0.0185 - val_loss: 0.0166\n",
      "Epoch 89/100\n",
      "925/925 [==============================] - 329s 356ms/step - loss: 0.0184 - val_loss: 0.0165\n",
      "Epoch 90/100\n",
      "925/925 [==============================] - 331s 357ms/step - loss: 0.0182 - val_loss: 0.0164\n",
      "Epoch 91/100\n",
      "925/925 [==============================] - 327s 354ms/step - loss: 0.0184 - val_loss: 0.0163\n",
      "Epoch 92/100\n",
      "925/925 [==============================] - 328s 354ms/step - loss: 0.0181 - val_loss: 0.0160\n",
      "Epoch 93/100\n",
      "925/925 [==============================] - 331s 358ms/step - loss: 0.0181 - val_loss: 0.0162\n",
      "Epoch 94/100\n",
      "925/925 [==============================] - 326s 353ms/step - loss: 0.0183 - val_loss: 0.0170\n",
      "Epoch 95/100\n",
      "925/925 [==============================] - 330s 357ms/step - loss: 0.0180 - val_loss: 0.0164\n",
      "Epoch 96/100\n",
      "925/925 [==============================] - 327s 353ms/step - loss: 0.0180 - val_loss: 0.0156\n",
      "Epoch 97/100\n",
      "925/925 [==============================] - 329s 356ms/step - loss: 0.0179 - val_loss: 0.0158\n",
      "Epoch 98/100\n",
      "925/925 [==============================] - 331s 358ms/step - loss: 0.0179 - val_loss: 0.0157\n",
      "Epoch 99/100\n",
      "925/925 [==============================] - 330s 356ms/step - loss: 0.0178 - val_loss: 0.0157\n",
      "Epoch 100/100\n",
      "925/925 [==============================] - 329s 355ms/step - loss: 0.0177 - val_loss: 0.0154\n"
     ]
    }
   ],
   "source": [
    "# 모델 학습\n",
    "history = model.fit(\n",
    "    x_train, y_train,\n",
    "    epochs=100,\n",
    "    batch_size=32,\n",
    "    validation_data=(x_val, y_val),\n",
    "    callbacks=[early_stopping_callback]  \n",
    ")"
   ]
  },
  {
   "cell_type": "code",
   "execution_count": 29,
   "id": "3ef33402-56ac-46b5-9179-d27ecc107c65",
   "metadata": {},
   "outputs": [
    {
     "name": "stdout",
     "output_type": "stream",
     "text": [
      "232/232 [==============================] - 26s 114ms/step - loss: 0.0284\n",
      "Test Loss: 0.0283743217587471\n"
     ]
    }
   ],
   "source": [
    "# 모델 평가\n",
    "loss = model.evaluate(x_test, y_test)\n",
    "print(\"Test Loss:\", loss)"
   ]
  },
  {
   "cell_type": "code",
   "execution_count": 30,
   "id": "0de456b2-adf3-45e2-a158-8de013eeb608",
   "metadata": {},
   "outputs": [
    {
     "name": "stdout",
     "output_type": "stream",
     "text": [
      "다음 날짜: 2024-05-24 23:00:00\n"
     ]
    }
   ],
   "source": [
    "last_date = df['timestamp'].iloc[-1]  \n",
    "next_date = last_date + timedelta(days=1) \n",
    "print(\"다음 날짜:\", next_date)"
   ]
  },
  {
   "cell_type": "code",
   "execution_count": 31,
   "id": "09a28880-55ad-41bc-9668-50376fe23f5a",
   "metadata": {},
   "outputs": [
    {
     "name": "stdout",
     "output_type": "stream",
     "text": [
      "1/1 [==============================] - 1s 532ms/step\n",
      "다음 날 기상 예측: [[   7.4279084     0.11416399    3.1583736   247.26433      38.44667\n",
      "  1014.9859        4.8776703     0.85280895    1.0058229 ]]\n"
     ]
    }
   ],
   "source": [
    "last_sequence = df[input_features].iloc[-sequence_length:, :]\n",
    "next_day_prediction = model.predict(np.array([last_sequence]))\n",
    "np.set_printoptions(suppress=True)\n",
    "for feature, scaler in scalers.items():\n",
    "    if feature in output_features:\n",
    "        next_day_prediction[0, output_features.index(feature)] = scaler.inverse_transform(next_day_prediction[0, output_features.index(feature)].reshape(-1, 1)).flatten()\n",
    "print(\"다음 날 기상 예측:\", next_day_prediction)\n"
   ]
  },
  {
   "cell_type": "code",
   "execution_count": 32,
   "id": "f0feab06-0871-468c-b981-052b37c42094",
   "metadata": {},
   "outputs": [],
   "source": [
    "# model.save(\"lstm_model.h5\")"
   ]
  },
  {
   "cell_type": "code",
   "execution_count": null,
   "id": "7c006767-73a1-46d0-a7be-09f9dadbaabe",
   "metadata": {},
   "outputs": [],
   "source": []
  },
  {
   "cell_type": "code",
   "execution_count": 33,
   "id": "c23d6186-7366-41b4-a33d-850f5ceb980f",
   "metadata": {
    "scrolled": true
   },
   "outputs": [
    {
     "name": "stderr",
     "output_type": "stream",
     "text": [
      "  0%|                                                                                            | 0/72 [00:00<?, ?it/s]"
     ]
    },
    {
     "name": "stdout",
     "output_type": "stream",
     "text": [
      "1/1 [==============================] - 0s 48ms/step\n",
      "1/1 [==============================] - 0s 54ms/step\n"
     ]
    },
    {
     "name": "stderr",
     "output_type": "stream",
     "text": [
      "  3%|██▎                                                                                 | 2/72 [00:00<00:05, 12.96it/s]"
     ]
    },
    {
     "name": "stdout",
     "output_type": "stream",
     "text": [
      "1/1 [==============================] - 0s 51ms/step\n",
      "1/1 [==============================] - 0s 52ms/step\n"
     ]
    },
    {
     "name": "stderr",
     "output_type": "stream",
     "text": [
      "  6%|████▋                                                                               | 4/72 [00:00<00:05, 13.05it/s]"
     ]
    },
    {
     "name": "stdout",
     "output_type": "stream",
     "text": [
      "1/1 [==============================] - 0s 50ms/step\n",
      "1/1 [==============================] - 0s 51ms/step\n"
     ]
    },
    {
     "name": "stderr",
     "output_type": "stream",
     "text": [
      "  8%|███████                                                                             | 6/72 [00:00<00:05, 13.14it/s]"
     ]
    },
    {
     "name": "stdout",
     "output_type": "stream",
     "text": [
      "1/1 [==============================] - 0s 52ms/step\n",
      "1/1 [==============================] - 0s 51ms/step\n"
     ]
    },
    {
     "name": "stderr",
     "output_type": "stream",
     "text": [
      " 11%|█████████▎                                                                          | 8/72 [00:00<00:04, 13.09it/s]"
     ]
    },
    {
     "name": "stdout",
     "output_type": "stream",
     "text": [
      "1/1 [==============================] - 0s 50ms/step\n",
      "1/1 [==============================] - 0s 52ms/step\n"
     ]
    },
    {
     "name": "stderr",
     "output_type": "stream",
     "text": [
      " 14%|███████████▌                                                                       | 10/72 [00:00<00:04, 13.06it/s]"
     ]
    },
    {
     "name": "stdout",
     "output_type": "stream",
     "text": [
      "1/1 [==============================] - 0s 51ms/step\n",
      "1/1 [==============================] - 0s 51ms/step\n"
     ]
    },
    {
     "name": "stderr",
     "output_type": "stream",
     "text": [
      " 17%|█████████████▊                                                                     | 12/72 [00:00<00:04, 13.11it/s]"
     ]
    },
    {
     "name": "stdout",
     "output_type": "stream",
     "text": [
      "1/1 [==============================] - 0s 50ms/step\n",
      "1/1 [==============================] - 0s 52ms/step\n"
     ]
    },
    {
     "name": "stderr",
     "output_type": "stream",
     "text": [
      " 19%|████████████████▏                                                                  | 14/72 [00:01<00:04, 13.14it/s]"
     ]
    },
    {
     "name": "stdout",
     "output_type": "stream",
     "text": [
      "1/1 [==============================] - 0s 51ms/step\n",
      "1/1 [==============================] - 0s 51ms/step\n"
     ]
    },
    {
     "name": "stderr",
     "output_type": "stream",
     "text": [
      " 22%|██████████████████▍                                                                | 16/72 [00:01<00:04, 13.16it/s]"
     ]
    },
    {
     "name": "stdout",
     "output_type": "stream",
     "text": [
      "1/1 [==============================] - 0s 53ms/step\n",
      "1/1 [==============================] - 0s 52ms/step\n"
     ]
    },
    {
     "name": "stderr",
     "output_type": "stream",
     "text": [
      " 25%|████████████████████▊                                                              | 18/72 [00:01<00:04, 13.04it/s]"
     ]
    },
    {
     "name": "stdout",
     "output_type": "stream",
     "text": [
      "1/1 [==============================] - 0s 51ms/step\n",
      "1/1 [==============================] - 0s 51ms/step\n"
     ]
    },
    {
     "name": "stderr",
     "output_type": "stream",
     "text": [
      " 28%|███████████████████████                                                            | 20/72 [00:01<00:03, 13.11it/s]"
     ]
    },
    {
     "name": "stdout",
     "output_type": "stream",
     "text": [
      "1/1 [==============================] - 0s 50ms/step\n",
      "1/1 [==============================] - 0s 51ms/step\n"
     ]
    },
    {
     "name": "stderr",
     "output_type": "stream",
     "text": [
      " 31%|█████████████████████████▎                                                         | 22/72 [00:01<00:03, 13.17it/s]"
     ]
    },
    {
     "name": "stdout",
     "output_type": "stream",
     "text": [
      "1/1 [==============================] - 0s 50ms/step\n",
      "1/1 [==============================] - 0s 50ms/step\n"
     ]
    },
    {
     "name": "stderr",
     "output_type": "stream",
     "text": [
      " 33%|███████████████████████████▋                                                       | 24/72 [00:01<00:03, 13.30it/s]"
     ]
    },
    {
     "name": "stdout",
     "output_type": "stream",
     "text": [
      "1/1 [==============================] - 0s 50ms/step\n",
      "1/1 [==============================] - 0s 52ms/step\n"
     ]
    },
    {
     "name": "stderr",
     "output_type": "stream",
     "text": [
      " 36%|█████████████████████████████▉                                                     | 26/72 [00:01<00:03, 13.18it/s]"
     ]
    },
    {
     "name": "stdout",
     "output_type": "stream",
     "text": [
      "1/1 [==============================] - 0s 51ms/step\n",
      "1/1 [==============================] - 0s 52ms/step\n"
     ]
    },
    {
     "name": "stderr",
     "output_type": "stream",
     "text": [
      " 39%|████████████████████████████████▎                                                  | 28/72 [00:02<00:03, 12.87it/s]"
     ]
    },
    {
     "name": "stdout",
     "output_type": "stream",
     "text": [
      "1/1 [==============================] - 0s 52ms/step\n",
      "1/1 [==============================] - 0s 48ms/step\n"
     ]
    },
    {
     "name": "stderr",
     "output_type": "stream",
     "text": [
      " 42%|██████████████████████████████████▌                                                | 30/72 [00:02<00:03, 13.08it/s]"
     ]
    },
    {
     "name": "stdout",
     "output_type": "stream",
     "text": [
      "1/1 [==============================] - 0s 47ms/step\n",
      "1/1 [==============================] - 0s 51ms/step\n"
     ]
    },
    {
     "name": "stderr",
     "output_type": "stream",
     "text": [
      " 44%|████████████████████████████████████▉                                              | 32/72 [00:02<00:03, 13.26it/s]"
     ]
    },
    {
     "name": "stdout",
     "output_type": "stream",
     "text": [
      "1/1 [==============================] - 0s 50ms/step\n",
      "1/1 [==============================] - 0s 53ms/step\n"
     ]
    },
    {
     "name": "stderr",
     "output_type": "stream",
     "text": [
      " 47%|███████████████████████████████████████▏                                           | 34/72 [00:02<00:02, 13.09it/s]"
     ]
    },
    {
     "name": "stdout",
     "output_type": "stream",
     "text": [
      "1/1 [==============================] - 0s 51ms/step\n",
      "1/1 [==============================] - 0s 52ms/step\n"
     ]
    },
    {
     "name": "stderr",
     "output_type": "stream",
     "text": [
      " 50%|█████████████████████████████████████████▌                                         | 36/72 [00:02<00:02, 13.10it/s]"
     ]
    },
    {
     "name": "stdout",
     "output_type": "stream",
     "text": [
      "1/1 [==============================] - 0s 51ms/step\n",
      "1/1 [==============================] - 0s 47ms/step\n"
     ]
    },
    {
     "name": "stderr",
     "output_type": "stream",
     "text": [
      " 53%|███████████████████████████████████████████▊                                       | 38/72 [00:02<00:02, 13.26it/s]"
     ]
    },
    {
     "name": "stdout",
     "output_type": "stream",
     "text": [
      "1/1 [==============================] - 0s 52ms/step\n",
      "1/1 [==============================] - 0s 50ms/step\n"
     ]
    },
    {
     "name": "stderr",
     "output_type": "stream",
     "text": [
      " 56%|██████████████████████████████████████████████                                     | 40/72 [00:03<00:02, 13.27it/s]"
     ]
    },
    {
     "name": "stdout",
     "output_type": "stream",
     "text": [
      "1/1 [==============================] - 0s 52ms/step\n",
      "1/1 [==============================] - 0s 51ms/step\n"
     ]
    },
    {
     "name": "stderr",
     "output_type": "stream",
     "text": [
      " 58%|████████████████████████████████████████████████▍                                  | 42/72 [00:03<00:02, 13.18it/s]"
     ]
    },
    {
     "name": "stdout",
     "output_type": "stream",
     "text": [
      "1/1 [==============================] - 0s 50ms/step\n",
      "1/1 [==============================] - 0s 50ms/step\n"
     ]
    },
    {
     "name": "stderr",
     "output_type": "stream",
     "text": [
      " 61%|██████████████████████████████████████████████████▋                                | 44/72 [00:03<00:02, 13.23it/s]"
     ]
    },
    {
     "name": "stdout",
     "output_type": "stream",
     "text": [
      "1/1 [==============================] - 0s 51ms/step\n",
      "1/1 [==============================] - 0s 51ms/step\n"
     ]
    },
    {
     "name": "stderr",
     "output_type": "stream",
     "text": [
      " 64%|█████████████████████████████████████████████████████                              | 46/72 [00:03<00:01, 13.27it/s]"
     ]
    },
    {
     "name": "stdout",
     "output_type": "stream",
     "text": [
      "1/1 [==============================] - 0s 52ms/step\n",
      "1/1 [==============================] - 0s 50ms/step\n"
     ]
    },
    {
     "name": "stderr",
     "output_type": "stream",
     "text": [
      " 67%|███████████████████████████████████████████████████████▎                           | 48/72 [00:03<00:01, 13.30it/s]"
     ]
    },
    {
     "name": "stdout",
     "output_type": "stream",
     "text": [
      "1/1 [==============================] - 0s 52ms/step\n",
      "1/1 [==============================] - 0s 51ms/step\n"
     ]
    },
    {
     "name": "stderr",
     "output_type": "stream",
     "text": [
      " 69%|█████████████████████████████████████████████████████████▋                         | 50/72 [00:03<00:01, 13.22it/s]"
     ]
    },
    {
     "name": "stdout",
     "output_type": "stream",
     "text": [
      "1/1 [==============================] - 0s 50ms/step\n",
      "1/1 [==============================] - 0s 50ms/step\n"
     ]
    },
    {
     "name": "stderr",
     "output_type": "stream",
     "text": [
      " 72%|███████████████████████████████████████████████████████████▉                       | 52/72 [00:03<00:01, 13.33it/s]"
     ]
    },
    {
     "name": "stdout",
     "output_type": "stream",
     "text": [
      "1/1 [==============================] - 0s 50ms/step\n",
      "1/1 [==============================] - 0s 50ms/step\n"
     ]
    },
    {
     "name": "stderr",
     "output_type": "stream",
     "text": [
      " 75%|██████████████████████████████████████████████████████████████▎                    | 54/72 [00:04<00:01, 13.47it/s]"
     ]
    },
    {
     "name": "stdout",
     "output_type": "stream",
     "text": [
      "1/1 [==============================] - 0s 51ms/step\n",
      "1/1 [==============================] - 0s 52ms/step\n"
     ]
    },
    {
     "name": "stderr",
     "output_type": "stream",
     "text": [
      " 78%|████████████████████████████████████████████████████████████████▌                  | 56/72 [00:04<00:01, 13.42it/s]"
     ]
    },
    {
     "name": "stdout",
     "output_type": "stream",
     "text": [
      "1/1 [==============================] - 0s 51ms/step\n",
      "1/1 [==============================] - 0s 51ms/step\n"
     ]
    },
    {
     "name": "stderr",
     "output_type": "stream",
     "text": [
      " 81%|██████████████████████████████████████████████████████████████████▊                | 58/72 [00:04<00:01, 13.38it/s]"
     ]
    },
    {
     "name": "stdout",
     "output_type": "stream",
     "text": [
      "1/1 [==============================] - 0s 55ms/step\n",
      "1/1 [==============================] - 0s 51ms/step\n"
     ]
    },
    {
     "name": "stderr",
     "output_type": "stream",
     "text": [
      " 83%|█████████████████████████████████████████████████████████████████████▏             | 60/72 [00:04<00:00, 13.15it/s]"
     ]
    },
    {
     "name": "stdout",
     "output_type": "stream",
     "text": [
      "1/1 [==============================] - 0s 53ms/step\n",
      "1/1 [==============================] - 0s 51ms/step\n"
     ]
    },
    {
     "name": "stderr",
     "output_type": "stream",
     "text": [
      " 86%|███████████████████████████████████████████████████████████████████████▍           | 62/72 [00:04<00:00, 13.23it/s]"
     ]
    },
    {
     "name": "stdout",
     "output_type": "stream",
     "text": [
      "1/1 [==============================] - 0s 52ms/step\n",
      "1/1 [==============================] - 0s 51ms/step\n"
     ]
    },
    {
     "name": "stderr",
     "output_type": "stream",
     "text": [
      " 89%|█████████████████████████████████████████████████████████████████████████▊         | 64/72 [00:04<00:00, 13.30it/s]"
     ]
    },
    {
     "name": "stdout",
     "output_type": "stream",
     "text": [
      "1/1 [==============================] - 0s 53ms/step\n",
      "1/1 [==============================] - 0s 53ms/step\n"
     ]
    },
    {
     "name": "stderr",
     "output_type": "stream",
     "text": [
      " 92%|████████████████████████████████████████████████████████████████████████████       | 66/72 [00:05<00:00, 13.19it/s]"
     ]
    },
    {
     "name": "stdout",
     "output_type": "stream",
     "text": [
      "1/1 [==============================] - 0s 51ms/step\n",
      "1/1 [==============================] - 0s 50ms/step\n"
     ]
    },
    {
     "name": "stderr",
     "output_type": "stream",
     "text": [
      " 94%|██████████████████████████████████████████████████████████████████████████████▍    | 68/72 [00:05<00:00, 13.29it/s]"
     ]
    },
    {
     "name": "stdout",
     "output_type": "stream",
     "text": [
      "1/1 [==============================] - 0s 50ms/step\n",
      "1/1 [==============================] - 0s 51ms/step\n"
     ]
    },
    {
     "name": "stderr",
     "output_type": "stream",
     "text": [
      " 97%|████████████████████████████████████████████████████████████████████████████████▋  | 70/72 [00:05<00:00, 13.38it/s]"
     ]
    },
    {
     "name": "stdout",
     "output_type": "stream",
     "text": [
      "1/1 [==============================] - 0s 50ms/step\n",
      "1/1 [==============================] - 0s 51ms/step\n"
     ]
    },
    {
     "name": "stderr",
     "output_type": "stream",
     "text": [
      "100%|███████████████████████████████████████████████████████████████████████████████████| 72/72 [00:05<00:00, 13.23it/s]"
     ]
    },
    {
     "name": "stdout",
     "output_type": "stream",
     "text": [
      "72시간 동안의 기상 예측:\n",
      "시간 1: [   7.4279084     0.11416399    3.1583736   247.26433      38.44667\n",
      " 1014.9859        4.8776703     0.85280895    1.0058229 ]\n",
      "시간 2: [   8.817515      0.32357308    4.4628696   313.5425       34.83624\n",
      " 1011.8026        4.5650287     0.9142819     1.006448  ]\n",
      "시간 3: [   7.6412263     0.2748068     4.3227353   301.55862      32.975742\n",
      " 1013.6764        4.467952      0.84067786    1.0069792 ]\n",
      "시간 4: [   7.479203      0.27322516    3.9854906   306.9318       27.383577\n",
      " 1014.28094       3.4697082     0.9393071     1.0126568 ]\n",
      "시간 5: [   6.844986      0.24540123    3.9039004   322.54037      22.49255\n",
      " 1013.7497        3.288783      0.95497704    1.0124645 ]\n",
      "시간 6: [   5.9380717     0.19916563    3.9598536   327.5447       22.293613\n",
      " 1013.63617       3.6603146     0.8979106     1.0069888 ]\n",
      "시간 7: [   4.947206      0.15232678    3.9714403   328.77847      23.703331\n",
      " 1013.7795        3.7911057     0.8520039     1.0024996 ]\n",
      "시간 8: [   3.7540402     0.0963564     3.9446745   329.74637      26.340826\n",
      " 1014.1257        3.804108      0.81022364    0.9968007 ]\n",
      "시간 9: [   2.1438155    -0.00395342    3.9418352   337.59128      28.697495\n",
      " 1014.6899        4.207461      0.70263207    0.9850795 ]\n",
      "시간 10: [   0.6199661    -0.12150972    3.905265    346.58167      28.737465\n",
      " 1015.5323        4.619532      0.6043824     0.9720577 ]\n",
      "시간 11: [   1.0547887    -0.19999467    3.9252026   352.3907       25.544785\n",
      " 1015.51733       4.5178947     0.5697535     0.96426404]\n",
      "시간 12: [   0.9078445    -0.20558563    3.930978    352.1471       24.24764\n",
      " 1015.743         4.375296      0.5767418     0.9624427 ]\n",
      "시간 13: [   0.858242     -0.20283742    3.9226959   351.26547      23.785412\n",
      " 1016.04346       4.4129963     0.5642472     0.96211565]\n",
      "시간 14: [   2.3536122    -0.14083645    3.8972611   350.13077      23.857191\n",
      " 1017.1873        4.4315476     0.5458744     0.9661213 ]\n",
      "시간 15: [   2.186327    -0.1424519    3.905461   350.21863     23.601011\n",
      " 1017.15295      4.4047914    0.5478057    0.9657636]\n",
      "시간 16: [   2.0291574    -0.14447968    3.90799     350.1678       23.476727\n",
      " 1017.06726       4.387383      0.5493165     0.96546155]\n",
      "시간 17: [   1.9211708    -0.14497152    3.9130013   350.17545      23.403212\n",
      " 1016.97406       4.375071      0.55053777    0.9653237 ]\n",
      "시간 18: [   1.7326102    -0.14931972    3.920189    350.22424      23.361095\n",
      " 1016.7988        4.3722053     0.55236536    0.9649572 ]\n",
      "시간 19: [   1.6842653    -0.14780617    3.9248047   350.13684      23.370235\n",
      " 1016.70703       4.3676386     0.5529087     0.96504545]\n",
      "시간 20: [   1.4694647    -0.15376018    3.9359703   350.129        23.393885\n",
      " 1016.4637        4.3807836     0.55387604    0.96454227]\n",
      "시간 21: [   0.7702142    -0.17861207    3.9724264   350.09766      23.48674\n",
      " 1015.6864        4.4477444     0.55430526    0.9622923 ]\n",
      "시간 22: [   1.9721469   -0.1242554    3.9250112  349.5407      23.509928\n",
      " 1016.74426      4.3218145    0.5535779    0.9669514]\n",
      "시간 23: [   1.8537226    -0.12669209    3.9337578   349.4734       23.567207\n",
      " 1016.5722        4.3352094     0.55387557    0.96676797]\n",
      "시간 24: [   3.0592694    -0.06070467    3.89348     348.58978      23.618177\n",
      " 1017.4447        4.1431327     0.55738103    0.9723055 ]\n",
      "시간 25: [   3.054873     -0.05757773    3.8960698   348.54092      23.659262\n",
      " 1017.3957        4.1332035     0.55885327    0.97267723]\n",
      "시간 26: [   2.8043535    -0.06823602    3.9080985   348.62775      23.717478\n",
      " 1017.1545        4.1711307     0.55887765    0.971872  ]\n",
      "시간 27: [   2.7946851    -0.06584605    3.9121284   348.5441       23.78442\n",
      " 1017.08746       4.1716332     0.55947363    0.9721404 ]\n",
      "시간 28: [   2.7901123    -0.06333616    3.9162843   348.44263      23.863045\n",
      " 1017.0223        4.1747656     0.5597751     0.97240347]\n",
      "시간 29: [   2.5036628    -0.07616039    3.9333115   348.38574      23.999893\n",
      " 1016.70624       4.240357      0.5574813     0.9712621 ]\n",
      "시간 30: [   2.4352527    -0.07731656    3.9416862   348.23706      24.121946\n",
      " 1016.5687        4.2661886     0.5563164     0.97113   ]\n",
      "시간 31: [   2.310379     -0.08152106    3.9534445   348.05667      24.275534\n",
      " 1016.3705        4.3087        0.55416507    0.9706768 ]\n",
      "시간 32: [   2.2824764    -0.08070362    3.960794    347.86383      24.413698\n",
      " 1016.2605        4.3322        0.5526862     0.97067976]\n",
      "시간 33: [   2.025878     -0.09175844    3.9811418   347.58786      24.64542\n",
      " 1015.9072        4.4131217     0.548157      0.9694725 ]\n",
      "시간 34: [   2.1132557    -0.08515877    3.982461    347.38263      24.775517\n",
      " 1015.9171        4.413612      0.54757744    0.9700062 ]\n",
      "시간 35: [   1.9979868    -0.08900459    3.9955196   347.09372      24.993502\n",
      " 1015.7071        4.464705      0.54426855    0.96946   ]\n",
      "시간 36: [   1.1659927    -0.12823966    4.0513577   346.4067       25.563835\n",
      " 1014.67065       4.6760507     0.5323451     0.9651206 ]\n",
      "시간 37: [   0.3219196    -0.16628234    4.10346     345.92786      25.989727\n",
      " 1013.59454       4.8197255     0.5255032     0.9610986 ]\n",
      "시간 38: [   1.0732256    -0.12889387    4.068821    345.86353      25.980494\n",
      " 1014.40216       4.7365417     0.52789867    0.9646868 ]\n",
      "시간 39: [   1.3007715    -0.11588722    4.0617313   345.69714      26.089075\n",
      " 1014.589         4.7153997     0.5281802     0.96585864]\n",
      "시간 40: [   1.226299     -0.11770061    4.071552    345.40445      26.334486\n",
      " 1014.4326        4.7506075     0.5257247     0.96546364]\n",
      "시간 41: [   1.1153287    -0.12128024    4.082785    345.1053       26.59732\n",
      " 1014.2432        4.7897887     0.5231967     0.9648925 ]\n",
      "시간 42: [   1.1230404    -0.1189421     4.0872946   344.84436      26.814718\n",
      " 1014.19165       4.8074036     0.5216941     0.96494275]\n",
      "시간 43: [   1.1833957   -0.1139042    4.0888224  344.58145     27.02421\n",
      " 1014.20233      4.816119     0.5205839    0.9652632]\n",
      "시간 44: [   1.1172493    -0.11511678    4.0965157   344.29205      27.28356\n",
      " 1014.08075       4.843578      0.51877594    0.9649451 ]\n",
      "시간 45: [   1.0803968    -0.11472692    4.1023364   344.01443      27.526892\n",
      " 1013.9961        4.8648357     0.517305      0.96480656]\n",
      "시간 46: [   0.9651997    -0.11820315    4.111305    343.73657      27.794466\n",
      " 1013.8384        4.8942056     0.51571745    0.9642912 ]\n",
      "시간 47: [   0.69811475   -0.1292602     4.125715    343.4766       28.10231\n",
      " 1013.545         4.9347563     0.51429504    0.9630518 ]\n",
      "시간 48: [   0.5819623    -0.13253707    4.1327133   343.1815       28.391685\n",
      " 1013.41614       4.9555125     0.5134722     0.9625663 ]\n",
      "시간 49: [  -0.17154354   -0.16792461    4.159465    343.4252       28.474981\n",
      " 1012.71295       4.988978      0.5161283     0.9594607 ]\n",
      "시간 50: [   0.6985345    -0.1237006     4.1350927   342.79843      28.786047\n",
      " 1013.4363        4.9655504     0.51163083    0.96310186]\n",
      "시간 51: [  -0.00720608   -0.1534489     4.157139    342.62378      29.11444\n",
      " 1012.86804       5.0061803     0.5141234     0.96035755]\n",
      "시간 52: [  -0.0083689    -0.15137951    4.1587467   342.18628      29.478685\n",
      " 1012.8737        5.015626      0.5130198     0.9603163 ]\n",
      "시간 53: [  -0.47944784   -0.16906188    4.1699414   341.99847      29.688295\n",
      " 1012.5417        5.016447      0.5169498     0.95879817]\n",
      "시간 54: [   0.04230828   -0.13876341    4.156787    340.91006      30.351673\n",
      " 1012.9959        5.0271454     0.5117759     0.96091855]\n",
      "시간 55: [   0.77342665   -0.08047033    4.120991    338.653        31.202765\n",
      " 1013.9191        5.007675      0.50826097    0.96587986]\n",
      "시간 56: [   0.30981782   -0.0760597     4.118632    335.70358      32.816647\n",
      " 1013.9935        5.045945      0.5063191     0.96536934]\n",
      "시간 57: [   0.26868162   -0.06913539    4.113941    334.00854      33.96085\n",
      " 1014.06354       5.0200887     0.50342065    0.96469814]\n",
      "시간 58: [   0.2884364    -0.06133221    4.10829     332.93674      34.91738\n",
      " 1014.08344       4.9864492     0.5033798     0.96419066]\n",
      "시간 59: [   0.02467824   -0.0693127     4.113231    332.2626       35.830856\n",
      " 1013.8565        4.979772      0.5045268     0.96262753]\n",
      "시간 60: [  -0.15773675   -0.07499277    4.116848    331.8211       36.59258\n",
      " 1013.7035        4.972045      0.5057884     0.96149784]\n",
      "시간 61: [   0.04733844   -0.06236646    4.1099844   331.32452      37.215588\n",
      " 1013.85724       4.971278      0.5026464     0.96199626]\n",
      "시간 62: [   0.04388919   -0.06028333    4.109381    330.9871       37.824406\n",
      " 1013.8417        4.96852       0.5021711     0.96167505]\n",
      "시간 63: [   0.13296376   -0.05393649    4.1064105   330.66718      38.365395\n",
      " 1013.89734       4.968482      0.50056577    0.96175474]\n",
      "시간 64: [   0.21006396   -0.04824685    4.103776    330.36124      38.90386\n",
      " 1013.94403       4.968195      0.4992299     0.9617829 ]\n",
      "시간 65: [  -0.46715826   -0.0783151     4.121103    330.57678      39.363377\n",
      " 1013.44525       4.9386425     0.5091737     0.9590697 ]\n",
      "시간 66: [  -0.35605386   -0.0709419     4.1177225   330.28888      39.86406\n",
      " 1013.5195        4.9400983     0.50740784    0.9592541 ]\n",
      "시간 67: [  -0.48218012   -0.07480674    4.1199913   330.20135      40.2875\n",
      " 1013.433         4.929461      0.5094642     0.9586248 ]\n",
      "시간 68: [  -0.92940336   -0.09385889    4.129119    330.44         40.521206\n",
      " 1013.1447        4.8978467     0.5170674     0.9569831 ]\n",
      "시간 69: [  -1.1235576    -0.10097667    4.132207    330.47516      40.821686\n",
      " 1013.0286        4.8796325     0.5206053     0.9562095 ]\n",
      "시간 70: [  -1.1059258    -0.09810541    4.1307597   330.28702      41.265812\n",
      " 1013.0467        4.876084      0.52047205    0.95607775]\n",
      "시간 71: [  -1.0977665    -0.09570777    4.129461    330.11353      41.695774\n",
      " 1013.0589        4.8719034     0.52052426    0.95591974]\n",
      "시간 72: [  -1.1087496    -0.09424423    4.1284986   329.96304      42.107567\n",
      " 1013.06          4.8663163     0.52094144    0.95570403]\n"
     ]
    },
    {
     "name": "stderr",
     "output_type": "stream",
     "text": [
      "\n"
     ]
    }
   ],
   "source": [
    "# 다음 날의 기상 예측\n",
    "last_sequence = df[input_features].iloc[-sequence_length:, :]\n",
    "next_day_predictions = []\n",
    "for i in tqdm(range(72)):\n",
    "    next_day_prediction = model.predict(np.array([last_sequence]))\n",
    "    for feature, scaler in scalers.items():\n",
    "        if feature in output_features:\n",
    "            next_day_prediction[0, output_features.index(feature)] = scaler.inverse_transform(next_day_prediction[0, output_features.index(feature)].reshape(-1, 1)).flatten()\n",
    "    next_day_predictions.append(next_day_prediction.flatten())\n",
    "    last_sequence = np.vstack([last_sequence[1:], next_day_prediction])\n",
    "print(\"72시간 동안의 기상 예측:\")\n",
    "for i, prediction in enumerate(next_day_predictions, start=1):\n",
    "    print(f\"시간 {i}: {prediction}\")\n"
   ]
  },
  {
   "cell_type": "code",
   "execution_count": null,
   "id": "89327779-e4d8-428d-a32e-c0b2d8ced135",
   "metadata": {},
   "outputs": [],
   "source": [
    "# 다음 날의 기상 예측\n",
    "last_sequence = df[input_features].iloc[-sequence_length:, :]\n",
    "next_day_predictions = []\n",
    "for i in tqdm(range(100)):\n",
    "    next_day_prediction = model.predict(np.array([last_sequence]))\n",
    "    for feature, scaler in scalers.items():\n",
    "        if feature in output_features:\n",
    "            next_day_prediction[0, output_features.index(feature)] = scaler.inverse_transform(next_day_prediction[0, output_features.index(feature)].reshape(-1, 1)).flatten()\n",
    "    next_day_predictions.append(next_day_prediction.flatten())\n",
    "    last_sequence = np.vstack([last_sequence[1:], next_day_prediction])\n",
    "print(\"72시간 동안의 기상 예측:\")\n",
    "for i, prediction in enumerate(next_day_predictions, start=1):\n",
    "    print(f\"시간 {i}: {prediction}\")\n"
   ]
  },
  {
   "cell_type": "code",
   "execution_count": 34,
   "id": "956fc9ce-222a-45c8-9cae-dca9c6819c33",
   "metadata": {},
   "outputs": [
    {
     "name": "stdout",
     "output_type": "stream",
     "text": [
      "232/232 [==============================] - 28s 120ms/step\n",
      "Accuracy: 0.4549019607843137\n"
     ]
    }
   ],
   "source": [
    "from sklearn.metrics import accuracy_score\n",
    "# 모델의 예측 생성\n",
    "y_pred = model.predict(x_test)\n",
    "# 모델의 예측값을 클래스로 변환 (예: 0 또는 1)\n",
    "y_pred_class = np.argmax(y_pred, axis=1)\n",
    "\n",
    "# 정확도 계산\n",
    "accuracy = accuracy_score(np.argmax(y_test, axis=1), y_pred_class)\n",
    "print(\"Accuracy:\", accuracy)"
   ]
  },
  {
   "cell_type": "code",
   "execution_count": 35,
   "id": "0a8f6529-cd66-466f-9472-16eedcce6b0e",
   "metadata": {
    "scrolled": true
   },
   "outputs": [
    {
     "data": {
      "text/plain": [
       "[array([   7.4279084 ,    0.11416399,    3.1583736 ,  247.26433   ,\n",
       "          38.44667   , 1014.9859    ,    4.8776703 ,    0.85280895,\n",
       "           1.0058229 ], dtype=float32),\n",
       " array([   8.817515  ,    0.32357308,    4.4628696 ,  313.5425    ,\n",
       "          34.83624   , 1011.8026    ,    4.5650287 ,    0.9142819 ,\n",
       "           1.006448  ], dtype=float32),\n",
       " array([   7.6412263 ,    0.2748068 ,    4.3227353 ,  301.55862   ,\n",
       "          32.975742  , 1013.6764    ,    4.467952  ,    0.84067786,\n",
       "           1.0069792 ], dtype=float32),\n",
       " array([   7.479203  ,    0.27322516,    3.9854906 ,  306.9318    ,\n",
       "          27.383577  , 1014.28094   ,    3.4697082 ,    0.9393071 ,\n",
       "           1.0126568 ], dtype=float32),\n",
       " array([   6.844986  ,    0.24540123,    3.9039004 ,  322.54037   ,\n",
       "          22.49255   , 1013.7497    ,    3.288783  ,    0.95497704,\n",
       "           1.0124645 ], dtype=float32),\n",
       " array([   5.9380717 ,    0.19916563,    3.9598536 ,  327.5447    ,\n",
       "          22.293613  , 1013.63617   ,    3.6603146 ,    0.8979106 ,\n",
       "           1.0069888 ], dtype=float32),\n",
       " array([   4.947206  ,    0.15232678,    3.9714403 ,  328.77847   ,\n",
       "          23.703331  , 1013.7795    ,    3.7911057 ,    0.8520039 ,\n",
       "           1.0024996 ], dtype=float32),\n",
       " array([   3.7540402 ,    0.0963564 ,    3.9446745 ,  329.74637   ,\n",
       "          26.340826  , 1014.1257    ,    3.804108  ,    0.81022364,\n",
       "           0.9968007 ], dtype=float32),\n",
       " array([   2.1438155 ,   -0.00395342,    3.9418352 ,  337.59128   ,\n",
       "          28.697495  , 1014.6899    ,    4.207461  ,    0.70263207,\n",
       "           0.9850795 ], dtype=float32),\n",
       " array([   0.6199661 ,   -0.12150972,    3.905265  ,  346.58167   ,\n",
       "          28.737465  , 1015.5323    ,    4.619532  ,    0.6043824 ,\n",
       "           0.9720577 ], dtype=float32),\n",
       " array([   1.0547887 ,   -0.19999467,    3.9252026 ,  352.3907    ,\n",
       "          25.544785  , 1015.51733   ,    4.5178947 ,    0.5697535 ,\n",
       "           0.96426404], dtype=float32),\n",
       " array([   0.9078445 ,   -0.20558563,    3.930978  ,  352.1471    ,\n",
       "          24.24764   , 1015.743     ,    4.375296  ,    0.5767418 ,\n",
       "           0.9624427 ], dtype=float32),\n",
       " array([   0.858242  ,   -0.20283742,    3.9226959 ,  351.26547   ,\n",
       "          23.785412  , 1016.04346   ,    4.4129963 ,    0.5642472 ,\n",
       "           0.96211565], dtype=float32),\n",
       " array([   2.3536122 ,   -0.14083645,    3.8972611 ,  350.13077   ,\n",
       "          23.857191  , 1017.1873    ,    4.4315476 ,    0.5458744 ,\n",
       "           0.9661213 ], dtype=float32),\n",
       " array([   2.186327 ,   -0.1424519,    3.905461 ,  350.21863  ,\n",
       "          23.601011 , 1017.15295  ,    4.4047914,    0.5478057,\n",
       "           0.9657636], dtype=float32),\n",
       " array([   2.0291574 ,   -0.14447968,    3.90799   ,  350.1678    ,\n",
       "          23.476727  , 1017.06726   ,    4.387383  ,    0.5493165 ,\n",
       "           0.96546155], dtype=float32),\n",
       " array([   1.9211708 ,   -0.14497152,    3.9130013 ,  350.17545   ,\n",
       "          23.403212  , 1016.97406   ,    4.375071  ,    0.55053777,\n",
       "           0.9653237 ], dtype=float32),\n",
       " array([   1.7326102 ,   -0.14931972,    3.920189  ,  350.22424   ,\n",
       "          23.361095  , 1016.7988    ,    4.3722053 ,    0.55236536,\n",
       "           0.9649572 ], dtype=float32),\n",
       " array([   1.6842653 ,   -0.14780617,    3.9248047 ,  350.13684   ,\n",
       "          23.370235  , 1016.70703   ,    4.3676386 ,    0.5529087 ,\n",
       "           0.96504545], dtype=float32),\n",
       " array([   1.4694647 ,   -0.15376018,    3.9359703 ,  350.129     ,\n",
       "          23.393885  , 1016.4637    ,    4.3807836 ,    0.55387604,\n",
       "           0.96454227], dtype=float32),\n",
       " array([   0.7702142 ,   -0.17861207,    3.9724264 ,  350.09766   ,\n",
       "          23.48674   , 1015.6864    ,    4.4477444 ,    0.55430526,\n",
       "           0.9622923 ], dtype=float32),\n",
       " array([   1.9721469,   -0.1242554,    3.9250112,  349.5407   ,\n",
       "          23.509928 , 1016.74426  ,    4.3218145,    0.5535779,\n",
       "           0.9669514], dtype=float32),\n",
       " array([   1.8537226 ,   -0.12669209,    3.9337578 ,  349.4734    ,\n",
       "          23.567207  , 1016.5722    ,    4.3352094 ,    0.55387557,\n",
       "           0.96676797], dtype=float32),\n",
       " array([   3.0592694 ,   -0.06070467,    3.89348   ,  348.58978   ,\n",
       "          23.618177  , 1017.4447    ,    4.1431327 ,    0.55738103,\n",
       "           0.9723055 ], dtype=float32),\n",
       " array([   3.054873  ,   -0.05757773,    3.8960698 ,  348.54092   ,\n",
       "          23.659262  , 1017.3957    ,    4.1332035 ,    0.55885327,\n",
       "           0.97267723], dtype=float32),\n",
       " array([   2.8043535 ,   -0.06823602,    3.9080985 ,  348.62775   ,\n",
       "          23.717478  , 1017.1545    ,    4.1711307 ,    0.55887765,\n",
       "           0.971872  ], dtype=float32),\n",
       " array([   2.7946851 ,   -0.06584605,    3.9121284 ,  348.5441    ,\n",
       "          23.78442   , 1017.08746   ,    4.1716332 ,    0.55947363,\n",
       "           0.9721404 ], dtype=float32),\n",
       " array([   2.7901123 ,   -0.06333616,    3.9162843 ,  348.44263   ,\n",
       "          23.863045  , 1017.0223    ,    4.1747656 ,    0.5597751 ,\n",
       "           0.97240347], dtype=float32),\n",
       " array([   2.5036628 ,   -0.07616039,    3.9333115 ,  348.38574   ,\n",
       "          23.999893  , 1016.70624   ,    4.240357  ,    0.5574813 ,\n",
       "           0.9712621 ], dtype=float32),\n",
       " array([   2.4352527 ,   -0.07731656,    3.9416862 ,  348.23706   ,\n",
       "          24.121946  , 1016.5687    ,    4.2661886 ,    0.5563164 ,\n",
       "           0.97113   ], dtype=float32),\n",
       " array([   2.310379  ,   -0.08152106,    3.9534445 ,  348.05667   ,\n",
       "          24.275534  , 1016.3705    ,    4.3087    ,    0.55416507,\n",
       "           0.9706768 ], dtype=float32),\n",
       " array([   2.2824764 ,   -0.08070362,    3.960794  ,  347.86383   ,\n",
       "          24.413698  , 1016.2605    ,    4.3322    ,    0.5526862 ,\n",
       "           0.97067976], dtype=float32),\n",
       " array([   2.025878  ,   -0.09175844,    3.9811418 ,  347.58786   ,\n",
       "          24.64542   , 1015.9072    ,    4.4131217 ,    0.548157  ,\n",
       "           0.9694725 ], dtype=float32),\n",
       " array([   2.1132557 ,   -0.08515877,    3.982461  ,  347.38263   ,\n",
       "          24.775517  , 1015.9171    ,    4.413612  ,    0.54757744,\n",
       "           0.9700062 ], dtype=float32),\n",
       " array([   1.9979868 ,   -0.08900459,    3.9955196 ,  347.09372   ,\n",
       "          24.993502  , 1015.7071    ,    4.464705  ,    0.54426855,\n",
       "           0.96946   ], dtype=float32),\n",
       " array([   1.1659927 ,   -0.12823966,    4.0513577 ,  346.4067    ,\n",
       "          25.563835  , 1014.67065   ,    4.6760507 ,    0.5323451 ,\n",
       "           0.9651206 ], dtype=float32),\n",
       " array([   0.3219196 ,   -0.16628234,    4.10346   ,  345.92786   ,\n",
       "          25.989727  , 1013.59454   ,    4.8197255 ,    0.5255032 ,\n",
       "           0.9610986 ], dtype=float32),\n",
       " array([   1.0732256 ,   -0.12889387,    4.068821  ,  345.86353   ,\n",
       "          25.980494  , 1014.40216   ,    4.7365417 ,    0.52789867,\n",
       "           0.9646868 ], dtype=float32),\n",
       " array([   1.3007715 ,   -0.11588722,    4.0617313 ,  345.69714   ,\n",
       "          26.089075  , 1014.589     ,    4.7153997 ,    0.5281802 ,\n",
       "           0.96585864], dtype=float32),\n",
       " array([   1.226299  ,   -0.11770061,    4.071552  ,  345.40445   ,\n",
       "          26.334486  , 1014.4326    ,    4.7506075 ,    0.5257247 ,\n",
       "           0.96546364], dtype=float32),\n",
       " array([   1.1153287 ,   -0.12128024,    4.082785  ,  345.1053    ,\n",
       "          26.59732   , 1014.2432    ,    4.7897887 ,    0.5231967 ,\n",
       "           0.9648925 ], dtype=float32),\n",
       " array([   1.1230404 ,   -0.1189421 ,    4.0872946 ,  344.84436   ,\n",
       "          26.814718  , 1014.19165   ,    4.8074036 ,    0.5216941 ,\n",
       "           0.96494275], dtype=float32),\n",
       " array([   1.1833957,   -0.1139042,    4.0888224,  344.58145  ,\n",
       "          27.02421  , 1014.20233  ,    4.816119 ,    0.5205839,\n",
       "           0.9652632], dtype=float32),\n",
       " array([   1.1172493 ,   -0.11511678,    4.0965157 ,  344.29205   ,\n",
       "          27.28356   , 1014.08075   ,    4.843578  ,    0.51877594,\n",
       "           0.9649451 ], dtype=float32),\n",
       " array([   1.0803968 ,   -0.11472692,    4.1023364 ,  344.01443   ,\n",
       "          27.526892  , 1013.9961    ,    4.8648357 ,    0.517305  ,\n",
       "           0.96480656], dtype=float32),\n",
       " array([   0.9651997 ,   -0.11820315,    4.111305  ,  343.73657   ,\n",
       "          27.794466  , 1013.8384    ,    4.8942056 ,    0.51571745,\n",
       "           0.9642912 ], dtype=float32),\n",
       " array([   0.69811475,   -0.1292602 ,    4.125715  ,  343.4766    ,\n",
       "          28.10231   , 1013.545     ,    4.9347563 ,    0.51429504,\n",
       "           0.9630518 ], dtype=float32),\n",
       " array([   0.5819623 ,   -0.13253707,    4.1327133 ,  343.1815    ,\n",
       "          28.391685  , 1013.41614   ,    4.9555125 ,    0.5134722 ,\n",
       "           0.9625663 ], dtype=float32),\n",
       " array([  -0.17154354,   -0.16792461,    4.159465  ,  343.4252    ,\n",
       "          28.474981  , 1012.71295   ,    4.988978  ,    0.5161283 ,\n",
       "           0.9594607 ], dtype=float32),\n",
       " array([   0.6985345 ,   -0.1237006 ,    4.1350927 ,  342.79843   ,\n",
       "          28.786047  , 1013.4363    ,    4.9655504 ,    0.51163083,\n",
       "           0.96310186], dtype=float32),\n",
       " array([  -0.00720608,   -0.1534489 ,    4.157139  ,  342.62378   ,\n",
       "          29.11444   , 1012.86804   ,    5.0061803 ,    0.5141234 ,\n",
       "           0.96035755], dtype=float32),\n",
       " array([  -0.0083689 ,   -0.15137951,    4.1587467 ,  342.18628   ,\n",
       "          29.478685  , 1012.8737    ,    5.015626  ,    0.5130198 ,\n",
       "           0.9603163 ], dtype=float32),\n",
       " array([  -0.47944784,   -0.16906188,    4.1699414 ,  341.99847   ,\n",
       "          29.688295  , 1012.5417    ,    5.016447  ,    0.5169498 ,\n",
       "           0.95879817], dtype=float32),\n",
       " array([   0.04230828,   -0.13876341,    4.156787  ,  340.91006   ,\n",
       "          30.351673  , 1012.9959    ,    5.0271454 ,    0.5117759 ,\n",
       "           0.96091855], dtype=float32),\n",
       " array([   0.77342665,   -0.08047033,    4.120991  ,  338.653     ,\n",
       "          31.202765  , 1013.9191    ,    5.007675  ,    0.50826097,\n",
       "           0.96587986], dtype=float32),\n",
       " array([   0.30981782,   -0.0760597 ,    4.118632  ,  335.70358   ,\n",
       "          32.816647  , 1013.9935    ,    5.045945  ,    0.5063191 ,\n",
       "           0.96536934], dtype=float32),\n",
       " array([   0.26868162,   -0.06913539,    4.113941  ,  334.00854   ,\n",
       "          33.96085   , 1014.06354   ,    5.0200887 ,    0.50342065,\n",
       "           0.96469814], dtype=float32),\n",
       " array([   0.2884364 ,   -0.06133221,    4.10829   ,  332.93674   ,\n",
       "          34.91738   , 1014.08344   ,    4.9864492 ,    0.5033798 ,\n",
       "           0.96419066], dtype=float32),\n",
       " array([   0.02467824,   -0.0693127 ,    4.113231  ,  332.2626    ,\n",
       "          35.830856  , 1013.8565    ,    4.979772  ,    0.5045268 ,\n",
       "           0.96262753], dtype=float32),\n",
       " array([  -0.15773675,   -0.07499277,    4.116848  ,  331.8211    ,\n",
       "          36.59258   , 1013.7035    ,    4.972045  ,    0.5057884 ,\n",
       "           0.96149784], dtype=float32),\n",
       " array([   0.04733844,   -0.06236646,    4.1099844 ,  331.32452   ,\n",
       "          37.215588  , 1013.85724   ,    4.971278  ,    0.5026464 ,\n",
       "           0.96199626], dtype=float32),\n",
       " array([   0.04388919,   -0.06028333,    4.109381  ,  330.9871    ,\n",
       "          37.824406  , 1013.8417    ,    4.96852   ,    0.5021711 ,\n",
       "           0.96167505], dtype=float32),\n",
       " array([   0.13296376,   -0.05393649,    4.1064105 ,  330.66718   ,\n",
       "          38.365395  , 1013.89734   ,    4.968482  ,    0.50056577,\n",
       "           0.96175474], dtype=float32),\n",
       " array([   0.21006396,   -0.04824685,    4.103776  ,  330.36124   ,\n",
       "          38.90386   , 1013.94403   ,    4.968195  ,    0.4992299 ,\n",
       "           0.9617829 ], dtype=float32),\n",
       " array([  -0.46715826,   -0.0783151 ,    4.121103  ,  330.57678   ,\n",
       "          39.363377  , 1013.44525   ,    4.9386425 ,    0.5091737 ,\n",
       "           0.9590697 ], dtype=float32),\n",
       " array([  -0.35605386,   -0.0709419 ,    4.1177225 ,  330.28888   ,\n",
       "          39.86406   , 1013.5195    ,    4.9400983 ,    0.50740784,\n",
       "           0.9592541 ], dtype=float32),\n",
       " array([  -0.48218012,   -0.07480674,    4.1199913 ,  330.20135   ,\n",
       "          40.2875    , 1013.433     ,    4.929461  ,    0.5094642 ,\n",
       "           0.9586248 ], dtype=float32),\n",
       " array([  -0.92940336,   -0.09385889,    4.129119  ,  330.44      ,\n",
       "          40.521206  , 1013.1447    ,    4.8978467 ,    0.5170674 ,\n",
       "           0.9569831 ], dtype=float32),\n",
       " array([  -1.1235576 ,   -0.10097667,    4.132207  ,  330.47516   ,\n",
       "          40.821686  , 1013.0286    ,    4.8796325 ,    0.5206053 ,\n",
       "           0.9562095 ], dtype=float32),\n",
       " array([  -1.1059258 ,   -0.09810541,    4.1307597 ,  330.28702   ,\n",
       "          41.265812  , 1013.0467    ,    4.876084  ,    0.52047205,\n",
       "           0.95607775], dtype=float32),\n",
       " array([  -1.0977665 ,   -0.09570777,    4.129461  ,  330.11353   ,\n",
       "          41.695774  , 1013.0589    ,    4.8719034 ,    0.52052426,\n",
       "           0.95591974], dtype=float32),\n",
       " array([  -1.1087496 ,   -0.09424423,    4.1284986 ,  329.96304   ,\n",
       "          42.107567  , 1013.06      ,    4.8663163 ,    0.52094144,\n",
       "           0.95570403], dtype=float32)]"
      ]
     },
     "execution_count": 35,
     "metadata": {},
     "output_type": "execute_result"
    }
   ],
   "source": [
    "next_day_predictions"
   ]
  },
  {
   "cell_type": "code",
   "execution_count": 36,
   "id": "50003057",
   "metadata": {},
   "outputs": [
    {
     "data": {
      "text/plain": [
       "array([[  -1.1087496 ,   -0.09424423,    4.1284986 ,  329.96304   ,\n",
       "          42.107567  , 1013.06      ,    4.8663163 ,    0.52094144,\n",
       "           0.95570403]], dtype=float32)"
      ]
     },
     "execution_count": 36,
     "metadata": {},
     "output_type": "execute_result"
    }
   ],
   "source": [
    "next_day_prediction"
   ]
  },
  {
   "cell_type": "code",
   "execution_count": 37,
   "id": "787810aa",
   "metadata": {},
   "outputs": [
    {
     "data": {
      "text/plain": [
       "array([   7.4279084 ,    0.11416399,    3.1583736 ,  247.26433   ,\n",
       "         38.44667   , 1014.9859    ,    4.8776703 ,    0.85280895,\n",
       "          1.0058229 ], dtype=float32)"
      ]
     },
     "execution_count": 37,
     "metadata": {},
     "output_type": "execute_result"
    }
   ],
   "source": [
    "next_day_predictions[0]"
   ]
  },
  {
   "cell_type": "code",
   "execution_count": 38,
   "id": "0e8a0574",
   "metadata": {},
   "outputs": [],
   "source": [
    "# model.save('lstm_model.h5')\n",
    "model.save('lstm_model.keras')"
   ]
  },
  {
   "cell_type": "code",
   "execution_count": 39,
   "id": "77674119-b224-4e8c-b76a-52def9484075",
   "metadata": {},
   "outputs": [
    {
     "name": "stderr",
     "output_type": "stream",
     "text": [
      "/home/swp/.local/lib/python3.8/site-packages/keras/src/engine/training.py:3000: UserWarning: You are saving your model as an HDF5 file via `model.save()`. This file format is considered legacy. We recommend using instead the native Keras format, e.g. `model.save('my_model.keras')`.\n",
      "  saving_api.save_model(\n"
     ]
    }
   ],
   "source": [
    "model.save('lstm_model.h5')"
   ]
  },
  {
   "cell_type": "code",
   "execution_count": null,
   "id": "022851e8",
   "metadata": {},
   "outputs": [],
   "source": []
  },
  {
   "cell_type": "code",
   "execution_count": null,
   "id": "10186583-0768-4e76-a587-d00f8f5494b3",
   "metadata": {},
   "outputs": [],
   "source": []
  },
  {
   "cell_type": "code",
   "execution_count": null,
   "id": "810f94e0-9efe-49b5-b2ab-44e5c109d47c",
   "metadata": {},
   "outputs": [],
   "source": []
  },
  {
   "cell_type": "code",
   "execution_count": null,
   "id": "d1910049-bf74-4aa8-9988-d5a42d0d6f9a",
   "metadata": {},
   "outputs": [],
   "source": []
  },
  {
   "cell_type": "code",
   "execution_count": null,
   "id": "894d9008-554f-4a2d-9e6d-e32b56ecfb71",
   "metadata": {},
   "outputs": [],
   "source": []
  }
 ],
 "metadata": {
  "kernelspec": {
   "display_name": "Python 3 (ipykernel)",
   "language": "python",
   "name": "python3"
  },
  "language_info": {
   "codemirror_mode": {
    "name": "ipython",
    "version": 3
   },
   "file_extension": ".py",
   "mimetype": "text/x-python",
   "name": "python",
   "nbconvert_exporter": "python",
   "pygments_lexer": "ipython3",
   "version": "3.8.10"
  }
 },
 "nbformat": 4,
 "nbformat_minor": 5
}
